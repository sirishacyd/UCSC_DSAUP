{
  "metadata": {
    "kernelspec": {
      "name": "python",
      "display_name": "Pyolite",
      "language": "python"
    },
    "language_info": {
      "codemirror_mode": {
        "name": "python",
        "version": 3
      },
      "file_extension": ".py",
      "mimetype": "text/x-python",
      "name": "python",
      "nbconvert_exporter": "python",
      "pygments_lexer": "ipython3",
      "version": "3.8"
    }
  },
  "nbformat_minor": 4,
  "nbformat": 4,
  "cells": [
    {
      "cell_type": "raw",
      "source": "# Selection Day Puzzle\n# Copyright: Jagadeesh Vasudevamurthy\n# filename: selectionday.ipynb",
      "metadata": {}
    },
    {
      "cell_type": "code",
      "source": "import math\nimport random ",
      "metadata": {
        "trusted": true
      },
      "execution_count": 7,
      "outputs": []
    },
    {
      "cell_type": "markdown",
      "source": "# Solution.py\n# You write code in Solution.py",
      "metadata": {}
    },
    {
      "cell_type": "code",
      "source": "############################################################\n# Solution.py\n# Author: Jagadeesh Vasudevamurthy\n# Copyright: Jagadeesh Vasudevamurthy 2021\n###########################################################\n\n############################################################\n# All imports\n###########################################################\n\n\nclass Solution:\n    def __init__(self, a: 'list of runtime', num_races: 'list of size 1', r: 'list of 3 best students', show: 'bool'):\n        self.N = 25  # Number of students\n        self.S = 3  # First 3 winners\n        self.T = 5  # Number of tracks\n\n        self._a = a  # List of run time (Given)\n        self._num_races = num_races  # MUST fill number of races conducted\n        self._r = r  # Find first 3 students (Must fill)\n\n        self._show = show  # Must print how you conducted races is _show is True\n        self._heap = self.Min_Heap()\n        self._alg(self._r)\n\n        # YOU CAN HAVE ANY NUMBER OF DATA STRUCTURES HERE\n\n    class Min_Heap:\n        def __init__(self):\n            self._heap = [1000000000000]\n            self._pos = 0\n\n        def __str__(self):\n            l = '[ '\n            for i in range(self._pos):\n                l = l + f\"{self._heap[i+1]} \"\n            l = l + ']'\n            return l\n\n        def build_from_list(self, l):\n            for item in l:\n                self.insert(item)\n\n        def size(self):\n            return self._pos\n\n        def isEmpty(self):\n            return self._pos == 0\n\n        def left(self, x):\n            n = x*2\n            if n <= self._pos:\n                return self._heap[n]\n            return None\n\n        def right(self, x):\n            n = x*2 + 1\n            if n <= self._pos:\n                return self._heap[n]\n            return None\n\n        def father(self, x):\n            n = x // 2\n            if n >= 1:\n                return self._heap[n]\n            return None\n\n        def getTop(self):\n            if self.isEmpty() == False:\n                return self._heap[1]\n            return None\n\n        def insert(self, item):\n            self._pos += 1\n            self._heap.append(item)\n            n = self._pos\n            while n > 1:\n                if self._heap[n][1] < self.father(n)[1]:\n                    self._swap_values(n, n//2)\n                    n = n//2\n                    continue\n                break\n\n        def delete(self):\n            if self.isEmpty():\n                return None\n            x = self._heap.pop()\n            if self._pos == 1:\n                self._heap = [1000000000000]\n                self._pos = 0\n                return x\n            y = self.getTop()\n            self._heap[1] = x\n            self._pos -= 1\n            n = 1\n            while 2*n <= self._pos:\n                if 2*n <= self._pos and 2*n+1 <= self._pos:  # if left and right child exists\n                    if self.left(n)[1] <= self.right(n)[1] and self.left(n)[1] < x[1]:\n                        self._swap_values(n, 2*n)\n                        n = 2 * n\n                        continue\n                    elif self.right(n)[1] < self.left(n)[1] and self.right(n)[1] < x[1]:\n                        self._swap_values(n, 2*n+1)\n                        n = 2 * n + 1\n                        continue\n                    break\n                if 2*n <= self._pos and 2*n+1 > self._pos:  # only left child exists\n                    if self.left(n)[1] < x[1]:\n                        self._swap_values(n, 2*n)\n                        n = 2 * n\n                        continue\n                    break\n            return y\n\n        def _swap_values(self, index1, index2):\n            x = self._heap[index1]\n            self._heap[index1] = self._heap[index2]\n            self._heap[index2] = x\n\n   ############################################################\n   # WRITE YOUR CODE BELOW\n   # YOU CAN HAVE ANY NUMBER OF CLASSES AND PRIVATE FUNCTION\n   # if self._show = True MUST SHOW ALL RACES\n   # Must return NUMBER OF RACES\n   ###########################################################\n\n    def _alg(self, r):\n        self._num_races[0] = 0  # FILL THIS\n        self._r = [0, 0, 0]  # FILL THIS\n        # First run all 25 horses. Total of 5 races\n        results = []\n        l = []\n        for n in range(len(self._a)):\n            if n % 5 == 0 and n != 0:\n                results.append(self._race_five_horses(l))\n                l = []\n                l.append([n, self._a[n]])\n            elif n == len(self._a)-1:\n                l.append([n, self._a[n]])\n                results.append(self._race_five_horses(l))\n                l = []\n            else:\n                l.append([n, self._a[n]])\n        # Race the fastest horse in each group. Sixth race\n        for a in results:\n            l.append(a[0])\n        r[0] = self._race_five_horses(l)[0][0]\n        arranged = [0, 0, 0, 0, 0]\n        # arrange groups by fastest runners\n        for i in range(len(l)):\n            arranged[i] = results[l[i][0] // 5]\n        # Now race the horses closes to the fastest runner. This will be 7th race\n        final_race_contestants = []\n        for i in range(3):\n            if i == 0:\n                final_race_contestants.append(arranged[0][1])\n                final_race_contestants.append(arranged[0][2])\n            if i == 1:\n                final_race_contestants.append(arranged[1][0])\n                final_race_contestants.append(arranged[1][1])\n            if i == 2:\n                final_race_contestants.append(arranged[2][0])\n        final_race_contestants = self._race_five_horses(final_race_contestants)\n        r[1] = final_race_contestants[0][0]\n        r[2] = final_race_contestants[1][0]\n\n    def _race_five_horses(self, l: 'list of T elements'):\n        '''\n        this function takes in a list of self.T elements\n        returns a sorted list from fastest to slowest\n        increases num of races by 1\n        '''\n        self._num_races[0] += 1\n\n        self._heap.build_from_list(l)\n        for i in range(self.T):\n            l[i] = self._heap.delete()\n        return l",
      "metadata": {
        "trusted": true
      },
      "execution_count": 8,
      "outputs": []
    },
    {
      "cell_type": "markdown",
      "source": "# Util.py\n# Nothing can be changed in Util.py",
      "metadata": {}
    },
    {
      "cell_type": "code",
      "source": "############################################################\n# Util.py\n# Author: Jagadeesh Vasudevamurthy\n# Copyright: Jagadeesh Vasudevamurthy 2020\n###########################################################\n\n############################################################\n# NOTHING CAN BE CHANGED IN THIS FILE\n###########################################################\n\n############################################################\n# All imports\n###########################################################\nimport sys # For getting Python Version\nimport random \nimport math\nfrom time import process_time \n\nclass Util():\n    pass\n\n    ############################################\n    # generate_random_number start to end INCLUDED \n    # start to end INCLUDED\n    #########################################\n    def generate_a_random_number(self,start:int,end:int)->'int':\n        v = random.randrange(start,end+1);\n        return v\n\n    ############################################\n    # generate_random_number GENERATES  N random numbers betweem \n    # start to end INCLUDED\n    # if onlypositive is False, generates both pos and negative number\n    #  randrange(beg, end, step) :- \n    #  beginning number (included in generation), \n    #  last number (excluded in generation) a\n    #  nd step ( to skip numbers in range while selecting).\n    #########################################\n    def generate_random_number(self, N:int, onlypositive:bool, start:int, end:int)->'List of integer':\n        a = []\n        for i in range(N):\n            v = self.generate_a_random_number(start,end);\n            if (onlypositive == False):\n                if ((i % 2) == 0): ##//Even. Half are positive, Half are negative\n                    v = -v ;\n            a.append(v)\n        return a\n\n    ############################################\n    # swap\n    #########################################\n    def swap(self,a:'List of integer', i:'int', j:'int'):\n        t = a[i]\n        a[i] = a[j]\n        a[j] = t\n\n    ############################################\n    # generate shuffled number between 0 to n\n    # n-1 not encluded\n    #########################################   \n    def generate_suffled_number_between_1_to_n(self, n:int)->'List of integer':\n        a = []\n        for i in range(n):\n            a.append(i)\n\n        for i in range(n):\n            j = self.generate_a_random_number(0,n-1);\n            k = self.generate_a_random_number(0,n-1);\n            self.swap(a,j,k)\n        return a\n\n    ############################################\n    # generate n numbers in ascending order from 0 to n-1\n    #########################################\n    def generate_n_numbers_in_ascending_order(self, n:int)->'List of integer':\n        a = []\n        for i in range(n):\n            a.append(i)\n        return a\n\n    ############################################\n    # generate n numbers in descending order from n-1 to 0\n    #########################################\n    def generate_n_numbers_in_desscending_order(self, n:int)->'List of integer':\n        a = []\n        for i in range(n-1,-1,-1):\n            a.append(i)\n        return a\n\n    ############################################\n    # generate n same k number\n    #########################################\n    def generate_n_same_k_number(self, n:int,k:'int')->'List of integer':\n        a = []\n        for i in range(n):\n            a.append(k)\n        return a\n  \n    ############################################\n    # print_index(10)\n    #    0   1   2   3   4   5   6   7   8   9\n    #########################################\n    def print_index(self, n:int):\n        for i in range(n):\n            print(\"{:4d}\".format(i),end=\"\")\n        print()\n\n    ############################################\n    # a = [7,8,9, 23, 100]\n    # print_list(a)\n    # 7   8   9  23 100\n    #########################################\n    def print_list(self, a:'list'):\n        for i in range(len(a)):\n            print(\"{:4d}\".format(a[i]),end=\"\")\n        print()   \n\n    ############################################\n    # a = [7,8,9, 1, 100]\n    # crash\n    #########################################\n    def assert_ascending_range(self, a:'list',start:int, includingend:int):\n        t = a[start]\n        for i in range(start+1,includingend):\n            if (a[i] < t):\n                assert(False)\n            t = a[i]\n\n    ############################################\n    # a = [7,8,9, 1, 100]\n    # crash\n    #########################################\n    def assert_ascending(self, a:'list'):\n        if (len(a)):\n            self.assert_ascending_range(a,0,len(a)) \n\n    ############################################\n    # log to the next possible integer\n    #########################################\n    def log_upper_bound(self, n:'int', b:'int')->'int':\n        f = math.log(n,b)\n        c = math.ceil(f)\n        return c \n\n    ############################################\n    # log to the smallest possible integer\n    #########################################\n    def log_lower_bound(self, n:'int', b:'int')->'int':\n        f = math.log(n,b)\n        c = math.floor(f)\n        return c   \n\n    ############################################\n    # sqrt to the next possible integer\n    #########################################\n    def sqrt_upper_bound(self, n:'int')->'int':\n        f = math.sqrt(n)\n        c = math.ceil(f)\n        return c    \n\n    ############################################\n    # sqrt to the smallest possible integer\n    #########################################\n    def sqrt_lower_bound(self, n:'int')->'int':\n        f = math.sqrt(n)\n        c = math.floor(f)\n        return c\n",
      "metadata": {
        "trusted": true
      },
      "execution_count": 9,
      "outputs": []
    },
    {
      "cell_type": "markdown",
      "source": "# Selectionday.py\n# Nothing can be changed in Selectionday.py",
      "metadata": {}
    },
    {
      "cell_type": "code",
      "source": "############################################################\n# Selectionday.py\n# Author: Jagadeesh Vasudevamurthy\n# Copyright: Jagadeesh Vasudevamurthy 2021\n###########################################################\n\n############################################################\n#        NOTHING CAN BE CHANGED IN THIS FILE\n###########################################################\n\n############################################################\n# All imports\n###########################################################\n#from Solution import *\n#from Util import *\n\nclass Selectionday():\n    def __init__(self):\n        self._show = False\n        self._u = Util()\n        self._testBench()\n\n    \n    #Private function\n    def _expectedAnswer(self, a:'list'):\n        ans = [0,0,0] \n        for i in range(25):\n            if (a[i] == 0):\n                ans[0] = i\n            elif (a[i] == 1):\n                ans[1] = i\n            elif (a[i] == 2):\n                ans[2] = i\n        return ans \n\n      #Private function\n    def _assertAnswer(self,r,e):\n        for i in range(3):\n            if (r[i] != e[i]):\n                return False\n        return True ;\n\n    def _testBench(self):\n        self._tests()\n        self._testn()\n        print(\"ALL TESTS PASSED\")\n\n    #Private function\n    def _test1(self,a:'List'):\n        ranks = [0,0,0] # populate the student ranks\n        num_races = [0]  ; # MUST fill number of races conducted\n        s = Solution(a,num_races,ranks, self._show)\n        ans = self._expectedAnswer(a)\n        if (self._show):\n            self._u.print_index(25)\n            self._u.print_list(a)\n            print(\"expected ans:\",ans)\n            print(\"You took\", num_races[0], \"races\")\n\n        if (self._assertAnswer(ranks,ans) == False):\n            print(\"Your answer is WRONG\")\n            assert(False)\n        if (num_races[0] < 7):\n            print(\"It is impossible to solve this problem in\",num_races[0], \"races\")\n            assert(False)\n\n    # Simple tests\n    def _tests(self):\n        self._show = True\n        a =[17,6,18,19,11,14,1,3,16,0,9,24,22,4,5,15,2,8,13,12,23,21,7,20,10]\n        self._test1(a)\n\n        a= [5,11,4,15,23,0,10,19,17,1,24,6,12,20,7,8,22,3,21,14,18,16,9,13,2]\n        self._test1(a)\n\n        a = [0,20,12,11,23,15,3,14,24,22,18,7,17,6,13,21,16,19,8,5,10,1,2,4,9]\n        self._test1(a)\n\n    # Random tests\n    def _testn(self):\n        self._show = False\n        N = 1000\n        print(\"Running\",N,\"races\")\n        for i in range(N):\n            a = self._u.generate_suffled_number_between_1_to_n(25)\n            self._test1(a)\n        print(\"ALL \", N, \" Races Passed\")\n\n\n############################################################\n# main \n# YOU CANNOT CHANGE ANYTHING BELOW\n###########################################################\ndef main():\n    print(\"Testing SelectiondayBase.py Starts\")\n    s = Selectionday()\n    print(\"Testing SelectiondayBase.py ENDS\")\n    \n############################################################\n# Real main\n###########################################################\nif (__name__    == '__main__'):\n    main()",
      "metadata": {
        "trusted": true
      },
      "execution_count": 11,
      "outputs": [
        {
          "name": "stdout",
          "text": "Testing SelectiondayBase.py Starts\n   0   1   2   3   4   5   6   7   8   9  10  11  12  13  14  15  16  17  18  19  20  21  22  23  24\n  17   6  18  19  11  14   1   3  16   0   9  24  22   4   5  15   2   8  13  12  23  21   7  20  10\nexpected ans: [9, 6, 16]\nYou took 7 races\n   0   1   2   3   4   5   6   7   8   9  10  11  12  13  14  15  16  17  18  19  20  21  22  23  24\n   5  11   4  15  23   0  10  19  17   1  24   6  12  20   7   8  22   3  21  14  18  16   9  13   2\nexpected ans: [5, 9, 24]\nYou took 7 races\n   0   1   2   3   4   5   6   7   8   9  10  11  12  13  14  15  16  17  18  19  20  21  22  23  24\n   0  20  12  11  23  15   3  14  24  22  18   7  17   6  13  21  16  19   8   5  10   1   2   4   9\nexpected ans: [0, 21, 22]\nYou took 7 races\nRunning 1000 races\nALL  1000  Races Passed\nALL TESTS PASSED\nTesting SelectiondayBase.py ENDS\n",
          "output_type": "stream"
        }
      ]
    },
    {
      "cell_type": "code",
      "source": "",
      "metadata": {},
      "execution_count": null,
      "outputs": []
    }
  ]
}