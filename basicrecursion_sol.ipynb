{
  "metadata": {
    "kernelspec": {
      "name": "python",
      "display_name": "Pyolite",
      "language": "python"
    },
    "language_info": {
      "codemirror_mode": {
        "name": "python",
        "version": 3
      },
      "file_extension": ".py",
      "mimetype": "text/x-python",
      "name": "python",
      "nbconvert_exporter": "python",
      "pygments_lexer": "ipython3",
      "version": "3.8"
    }
  },
  "nbformat_minor": 5,
  "nbformat": 4,
  "cells": [
    {
      "cell_type": "markdown",
      "source": "# Basic recursion\n# Copyright: Jagadeesh Vasudevamurthy\n# filename:basicrecursion.ipynb",
      "metadata": {},
      "id": "burning-benjamin"
    },
    {
      "cell_type": "markdown",
      "source": "# All import here",
      "metadata": {},
      "id": "front-narrative"
    },
    {
      "cell_type": "code",
      "source": "import sys # For getting Python Version",
      "metadata": {
        "trusted": true
      },
      "execution_count": 1,
      "outputs": [],
      "id": "dominant-forth"
    },
    {
      "cell_type": "markdown",
      "source": "# Basic recursion class\n# You will write code only here",
      "metadata": {},
      "id": "lonely-yugoslavia"
    },
    {
      "cell_type": "code",
      "source": "############################################################\n# Recursion.py \n# Author: Jagadeesh Vasudevamurthy\n# Copyright: Jagadeesh Vasudevamurthy 2021\n###########################################################\n\n############################################################\n#  All imports here\n###########################################################\n\n############################################################\n#  class  test factorial\n###########################################################    \nclass Recursion():\n    def __init__(self):\n        # Nothing can be added here\n        pass\n\n    ############################################################\n    #          WRITE ALL YOUR PUBLIC FUNCTION BELOW\n    ###########################################################\n\n    def factI(self, n):\n        ans = 1\n        for i in range(n):\n            ans = ans * (i+1)\n        return ans\n\n    def factR(self, n):\n        if n <= 1:\n            return 1\n        else:\n            return n*self.factR(n-1)\n\n    def printI(self, n, reverse):\n        if n <= 9:\n            print(n)\n            return None\n        if reverse:\n            while n:\n                print(n % 10, end=' ')\n                n = n // 10\n            print()\n        else:\n            l = []\n            while n:\n                l.append(n % 10)\n                n = n // 10\n            for i in range(len(l)):\n                print(l[len(l)-i-1], end=' ')\n            print()\n\n    def printR(self, n, reverse):\n        if reverse:\n            if n <= 9:\n                print(n)\n            else:\n                print(n % 10, end=' ')\n                self.printR(n // 10, True)\n        else:\n            l = []\n            l = self._printR_helper(l, n)\n            for i in range(len(l)):\n                print(l[len(l)-i-1], end=' ')\n            print()\n\n    def reverseI(self, num):\n        test_num = 0\n        while(num > 0):\n            remainder = num % 10\n            test_num = (test_num * 10) + remainder\n            num = num//10\n        return test_num\n\n    def reverseR(self, num):\n        res = 0\n        return self._reverseR_helper(res, num)\n\n    ############################################################\n    #          WRITE ALL YOUR PRIVATE FUNCTION BELOW\n    ###########################################################\n\n    def _printR_helper(self, l, n):\n        if n <= 9:\n            l.append(n)\n            return l\n        else:\n            l.append(n % 10)\n            return self._printR_helper(l, n // 10)\n\n    def _reverseR_helper(self, res, num):\n        if num > 0:\n            remainder = num % 10\n            res = res * 10 + remainder\n            return self._reverseR_helper(res, num // 10)\n        return res",
      "metadata": {
        "trusted": true
      },
      "execution_count": 2,
      "outputs": [],
      "id": "protected-gauge"
    },
    {
      "cell_type": "markdown",
      "source": "# Recursion test class\n# NOTHING CAN BE CHANGED BELOW",
      "metadata": {},
      "id": "criminal-kennedy"
    },
    {
      "cell_type": "code",
      "source": "############################################################\n# RecursionTest.py \n# Test Bench for Recursion\n# Author: Jagadeesh Vasudevamurthy\n# Copyright: Jagadeesh Vasudevamurthy 2021\n###########################################################\n\n############################################################\n#  NOTHING CAN BE CHANGED IN THIS FILE\n########################################################### \n\n############################################################\n#  All imports here\n###########################################################\n#import sys # For getting Python Version\n# from Recursion import *\n\n############################################################\n#  class  test factorial\n###########################################################    \nclass Test_fact():\n    def __init__(self):\n        self._test()\n\n    def _test1(self,n:'int')->'void':\n        o = Recursion()\n        ans1 = o.factI(n)\n        ans2 = o.factR(n)\n        print(\"Fact(\",n,\") Iterative = \",ans1,sep=\"\") ;\n        print(\"Fact(\",n,\") Recursive = \",ans2,sep=\"\") ;\n        assert(ans1 == ans2)\n\n    def _test(self):\n        a = [0,1,5,10,20]\n        for e in a:\n            self._test1(e)\n\n############################################################\n#  class  test print asis\n###########################################################    \nclass Test_print_asis_reverse():\n    def __init__(self):\n        self._test()\n\n    def _test1(self,n:'int',reverse:'bool')->'void':\n        o = Recursion()\n        if (reverse):\n            print(n, \" in reverse order is as follows\")\n        else:\n            print(n, \" in asis order is as follows\")\n        print(\"Iterative\")\n        o.printI(n,reverse)\n        print(\"Recursive\")\n        o.printR(n,reverse)\n\n    def _test(self):\n        a = [0,1,9,10,1986,1000, 1111,5267896714578]\n        for e in a:\n            self._test1(e,True)\n        for e in a:\n            self._test1(e,False)\n\n############################################################\n#  class  reverse int\n###########################################################    \nclass Test_reverse():\n    def __init__(self):\n        self._test()\n\n    def _test1(self,n:'int')->'void':\n        o = Recursion()\n        ans1 = o.reverseI(n)\n        ans2 = o.reverseR(n)\n        print(\"Reverse(\",n,\") Iterative = \",ans1,sep=\"\") ;\n        print(\"Reverse(\",n,\") Recursive = \",ans2,sep=\"\") ;\n        assert(ans1 == ans2)\n\n    def _test(self):\n        a = [0,1,9,10,1986,1000, 1111,5267896714578]\n        for e in a:\n            self._test1(e)\n\n############################################################\n#  class  test fib\n###########################################################    \nclass Test_fib():\n    def __init__(self):\n        self._test()\n\n    def _test1(self,n:'int')->'void':\n        o = Recursion()\n        ans1 = o.FibI(n)\n        ans2 = o.FibR(n)\n        print(\"Fib(\",n,\") Iterative = \",ans1,sep=\"\") ;\n        print(\"Fib(\",n,\") Recursive = \",ans2,sep=\"\") ;\n        assert(ans1 == ans2)\n\n    def _test(self):\n        a = [0,1,9,10,14,20]\n        for e in a:\n            self._test1(e)\n\n############################################################\n#  class  Test permutation\n###########################################################    \nclass Test_permutation():\n    def __init__(self):\n        self._test()\n\n    def _fact(self,n:'int')->'int':\n        s = 1\n        for i in range(2,n+1):\n            s = s * i \n        return s\n\n    def _test(self):\n        N = 5\n        for n in range(N):\n           o = Recursion()\n           print(\"Permutation of \",n, \"are as follows\");\n           a = o.permR(n)\n           print(\"Num permutation = \",a) ;\n           #assert(a == self._fact(n))\n  \n ############################################################\n# MAIN\n###########################################################    \ndef main():\n    print(\"Basic Recursion test starts\")\n    print(sys.version)\n    print(\"----------------Testing factorial--------------------\")\n    t = Test_fact()\n    print(\"----------------Testing print asis/reverse--------------------\")\n    t = Test_print_asis_reverse()\n    print(\"----------------Testing reverse--------------------\")\n    t = Test_reverse()\n    if (False):\n        print(\"----------------Testing Fibonacci--------------------\")\n        t = Test_fib()\n        print(\"----------------Testing permutation by recursion--------------------\")\n        t = Test_permutation()\n    print(\"Basic Recursion test Passed. If you don't see this line means, you cannot write Recursion\")\n",
      "metadata": {
        "trusted": true
      },
      "execution_count": 3,
      "outputs": [],
      "id": "resident-perth"
    },
    {
      "cell_type": "code",
      "source": "main()",
      "metadata": {
        "trusted": true
      },
      "execution_count": 6,
      "outputs": [
        {
          "name": "stdout",
          "text": "Basic Recursion test starts\n3.10.2 (main, Apr  9 2022, 20:52:01) [Clang 14.0.0 (https://github.com/llvm/llvm-project 78e87970af888bbbd5652c31f3a8\n----------------Testing factorial--------------------\nFact(0) Iterative = 1\nFact(0) Recursive = 1\nFact(1) Iterative = 1\nFact(1) Recursive = 1\nFact(5) Iterative = 120\nFact(5) Recursive = 120\nFact(10) Iterative = 3628800\nFact(10) Recursive = 3628800\nFact(20) Iterative = 2432902008176640000\nFact(20) Recursive = 2432902008176640000\n----------------Testing print asis/reverse--------------------\n0  in reverse order is as follows\nIterative\n0\nRecursive\n0\n1  in reverse order is as follows\nIterative\n1\nRecursive\n1\n9  in reverse order is as follows\nIterative\n9\nRecursive\n9\n10  in reverse order is as follows\nIterative\n0 1 \nRecursive\n0 1\n1986  in reverse order is as follows\nIterative\n6 8 9 1 \nRecursive\n6 8 9 1\n1000  in reverse order is as follows\nIterative\n0 0 0 1 \nRecursive\n0 0 0 1\n1111  in reverse order is as follows\nIterative\n1 1 1 1 \nRecursive\n1 1 1 1\n5267896714578  in reverse order is as follows\nIterative\n8 7 5 4 1 7 6 9 8 7 6 2 5 \nRecursive\n8 7 5 4 1 7 6 9 8 7 6 2 5\n0  in asis order is as follows\nIterative\n0\nRecursive\n0 \n1  in asis order is as follows\nIterative\n1\nRecursive\n1 \n9  in asis order is as follows\nIterative\n9\nRecursive\n9 \n10  in asis order is as follows\nIterative\n1 0 \nRecursive\n1 0 \n1986  in asis order is as follows\nIterative\n1 9 8 6 \nRecursive\n1 9 8 6 \n1000  in asis order is as follows\nIterative\n1 0 0 0 \nRecursive\n1 0 0 0 \n1111  in asis order is as follows\nIterative\n1 1 1 1 \nRecursive\n1 1 1 1 \n5267896714578  in asis order is as follows\nIterative\n5 2 6 7 8 9 6 7 1 4 5 7 8 \nRecursive\n5 2 6 7 8 9 6 7 1 4 5 7 8 \n----------------Testing reverse--------------------\nReverse(0) Iterative = 0\nReverse(0) Recursive = 0\nReverse(1) Iterative = 1\nReverse(1) Recursive = 1\nReverse(9) Iterative = 9\nReverse(9) Recursive = 9\nReverse(10) Iterative = 1\nReverse(10) Recursive = 1\nReverse(1986) Iterative = 6891\nReverse(1986) Recursive = 6891\nReverse(1000) Iterative = 1\nReverse(1000) Recursive = 1\nReverse(1111) Iterative = 1111\nReverse(1111) Recursive = 1111\nReverse(5267896714578) Iterative = 8754176987625\nReverse(5267896714578) Recursive = 8754176987625\nBasic Recursion test Passed. If you don't see this line means, you cannot write Recursion\n",
          "output_type": "stream"
        }
      ],
      "id": "funky-consumer"
    }
  ]
}