{
 "cells": [
  {
   "cell_type": "markdown",
   "metadata": {
    "collapsed": false
   },
   "source": [
    "## Hash\n",
    "## Copyright: Jagadeesh Vasudevamurthy\n",
    "## filename:Hash.ipynb"
   ]
  },
  {
   "cell_type": "markdown",
   "metadata": {
    "collapsed": false
   },
   "source": [
    "# All import here"
   ]
  },
  {
   "cell_type": "code",
   "execution_count": 1,
   "metadata": {
    "collapsed": false
   },
   "outputs": [],
   "source": [
    "import sys # For getting Python Version\n",
    "import random \n",
    "import math"
   ]
  },
  {
   "cell_type": "markdown",
   "metadata": {
    "collapsed": false
   },
   "source": [
    "# ListNode class"
   ]
  },
  {
   "cell_type": "code",
   "execution_count": 2,
   "metadata": {
    "collapsed": false
   },
   "outputs": [],
   "source": [
    "class ListNode:\n",
    "    def __init__(self, val = 0, next= None):\n",
    "        self.val = val\n",
    "        self.next = next"
   ]
  },
  {
   "cell_type": "markdown",
   "metadata": {
    "collapsed": false
   },
   "source": [
    "# Slist class"
   ]
  },
  {
   "cell_type": "code",
   "execution_count": 3,
   "metadata": {
    "collapsed": false
   },
   "outputs": [],
   "source": [
    "############################################################\n",
    "# Slist.py \n",
    "# SList oblect\n",
    "# Author: Jagadeesh Vasudevamurthy\n",
    "# Copyright: Jagadeesh Vasudevamurthy 2021\n",
    "###########################################################\n",
    "\n",
    "############################################################\n",
    "#  All imports here\n",
    "###########################################################\n",
    "#from ListNode import *\n",
    "\n",
    "############################################################\n",
    "#  class  Slist\n",
    "###########################################################   \n",
    "class Slist():\n",
    "    def __init__(self):\n",
    "        #NOTHING CAN BE CHANGED HERE\n",
    "        self._first = None\n",
    "        self._last = None\n",
    "        \n",
    "    #############################\n",
    "    # WRITE All public functions BELOW\n",
    "    # YOU CAN HAVE ANY NUMBER OF PRIVATE FUNCTIONS YOU WANT\n",
    "    #############################\n",
    "    def append(self, value):\n",
    "        s = ListNode(value)\n",
    "        if self._last:\n",
    "            self._last.next = s\n",
    "            self._last = s\n",
    "        else:\n",
    "            self._first = s\n",
    "            self._last = s\n",
    "\n",
    "    def find(self, i):\n",
    "        current = self._first\n",
    "        while current:\n",
    "            if current.val == i:\n",
    "                return True\n",
    "            current = current.next\n",
    "        return False\n",
    "\n",
    "    def delete(self, i):\n",
    "        found = False\n",
    "        if self._first.val == i:\n",
    "            found = True\n",
    "            if self._first == self._last:\n",
    "                self._first, self._last = None, None\n",
    "            else:\n",
    "                self._first = self._first.next\n",
    "        else:\n",
    "            current = self._first\n",
    "            previous = None\n",
    "            while current:\n",
    "                if current.val == i:\n",
    "                    found = True\n",
    "                    if current == self._last:\n",
    "                        self._last = previous\n",
    "                        self._last.next = None\n",
    "                        break\n",
    "                    else:\n",
    "                        previous.next = current.next\n",
    "                        break\n",
    "                previous = current\n",
    "                current = current.next\n",
    "        if not found:\n",
    "            return False\n",
    "\n",
    "\n",
    "    #############################\n",
    "    # All private functions BELOW\n",
    "    # YOU CAN HAVE ANY NUMBER OF PRIVATE FUNCTIONS YOU WANT\n",
    "    #############################\n",
    "    def __len__(self):\n",
    "        n = 0\n",
    "        current = self._first\n",
    "        while current:\n",
    "            n += 1\n",
    "            current = current.next\n",
    "        return n"
   ]
  },
  {
   "cell_type": "markdown",
   "metadata": {
    "collapsed": false
   },
   "source": [
    "# Hash Class"
   ]
  },
  {
   "cell_type": "code",
   "execution_count": 4,
   "metadata": {
    "collapsed": false
   },
   "outputs": [],
   "source": [
    "############################################################\n",
    "# Hash.py \n",
    "# Hash oblect\n",
    "# Author: Jagadeesh Vasudevamurthy\n",
    "# Copyright: Jagadeesh Vasudevamurthy 2021\n",
    "###########################################################\n",
    "\n",
    "############################################################\n",
    "#  All imports here\n",
    "###########################################################\n",
    "# #from ListNode import *\n",
    "# from Slist import *\n",
    "\n",
    "############################################################\n",
    "#  class  Hash\n",
    "###########################################################   \n",
    "class Hash():\n",
    "    def __init__(self, size:'int'):\n",
    "        #WRITE YOUR DATA STRUCTURE HERE\n",
    "        self._table_size = size\n",
    "        self._table_size = size\n",
    "        self._bucket = []\n",
    "        self._create_buckets(self._bucket)        \n",
    "        \n",
    "    #############################\n",
    "    # WRITE All public functions BELOW\n",
    "    # YOU CAN HAVE ANY NUMBER OF PRIVATE FUNCTIONS YOU WANT\n",
    "    #############################\n",
    "    def insert(self, value):\n",
    "        i = self._hash_func1(value)\n",
    "        t = self._bucket[i]\n",
    "        if t == 0:\n",
    "            s = Slist()\n",
    "            s.append(value)\n",
    "            self._bucket[i] = s\n",
    "        else:\n",
    "            t.append(value)\n",
    "\n",
    "    def __len__(self):\n",
    "        i = 0\n",
    "        for n in self._bucket:\n",
    "            if n != 0:\n",
    "                i += len(n)\n",
    "        return i\n",
    "\n",
    "    def statistics(self):\n",
    "        if len(self) == 0:\n",
    "            return (0, 0)\n",
    "        maximum, minimum = 0, 0\n",
    "        for n in self._bucket:\n",
    "            if n != 0:\n",
    "                n = len(n)\n",
    "                if maximum == 0 or minimum == 0:\n",
    "                    maximum, minimum = n, n\n",
    "                else:\n",
    "                    if n > maximum:\n",
    "                        maximum = n\n",
    "                    if n < minimum:\n",
    "                        minimum = n\n",
    "        return (minimum, maximum)\n",
    "\n",
    "    def find(self, value):\n",
    "        i = self._hash_func1(value)\n",
    "        t = self._bucket[i]\n",
    "        if t == 0:\n",
    "            return False\n",
    "        else:\n",
    "            return t.find(value)\n",
    "\n",
    "    def delete(self, value):\n",
    "        i = self._hash_func1(value)\n",
    "        t = self._bucket[i]\n",
    "        if t == 0:\n",
    "            pass\n",
    "        else:\n",
    "            t.delete(value)\n",
    "\n",
    "    #############################\n",
    "    # WRITE All private functtions BELOW\n",
    "    # YOU CAN HAVE ANY NUMBER OF PRIVATE FUNCTIONS YOU WANT\n",
    "    #############################\n",
    "    def _create_buckets(self, l):\n",
    "        for _ in range(self._table_size):\n",
    "            l.append(0)\n",
    "    #############################\n",
    "    # Time:   THETA(1)\n",
    "    # Space:  THETA(1)\n",
    "    # NOTHING CAN BE CHANGED BELOW\n",
    "    #############################\n",
    "    def _hash_func1(self,key:'int'):\n",
    "        key = ~key + (key << 15); \n",
    "        key = key ^ (key >> 12);\n",
    "        key = key + (key << 2);\n",
    "        key = key ^ (key >> 4);\n",
    "        key = key * 2057; \n",
    "        key = key ^ (key >> 16);\n",
    "        return key % (self._table_size)\n",
    "    \n",
    "    #############################\n",
    "    # Time:   THETA(1)\n",
    "    # Space:  THETA(1)\n",
    "    # NOTHING CAN BE CHANGED BELOW\n",
    "    #############################\n",
    "    def _hash_func(self,key:'int'):\n",
    "        return key % (self._table_size)\n"
   ]
  },
  {
   "cell_type": "markdown",
   "metadata": {
    "collapsed": false
   },
   "source": [
    "# Util class\n",
    "# Nothing can be changed\n",
    "# No need to write any code here"
   ]
  },
  {
   "cell_type": "code",
   "execution_count": 5,
   "metadata": {
    "collapsed": false
   },
   "outputs": [],
   "source": [
    "class Util():\n",
    "    pass\n",
    "\n",
    "    ############################################\n",
    "    # generate_random_number start to end INCLUDED \n",
    "    # start to end INCLUDED\n",
    "    #########################################\n",
    "    def generate_a_random_number(self,start:int,end:int)->'int':\n",
    "        v = random.randrange(start,end+1);\n",
    "        return v\n",
    "\n",
    "    ############################################\n",
    "    # generate_random_number GENERATES  N random numbers betweem \n",
    "    # start to end INCLUDED\n",
    "    # if onlypositive is False, generates both pos and negative number\n",
    "    #  randrange(beg, end, step) :- \n",
    "    #  beginning number (included in generation), \n",
    "    #  last number (excluded in generation) a\n",
    "    #  nd step ( to skip numbers in range while selecting).\n",
    "    #########################################\n",
    "    def generate_random_number(self, N:int, onlypositive:bool, start:int, end:int)->'List of integer':\n",
    "        a = []\n",
    "        for i in range(N):\n",
    "            v = self.generate_a_random_number(start,end);\n",
    "            if (onlypositive == False):\n",
    "                if ((i % 2) == 0): ##//Even. Half are positive, Half are negative\n",
    "                    v = -v ;\n",
    "            a.append(v)\n",
    "        return a\n",
    "\n",
    "    ############################################\n",
    "    # swap\n",
    "    #########################################\n",
    "    def swap(self,a:'List of integer', i:'int', j:'int'):\n",
    "        t = a[i]\n",
    "        a[i] = a[j]\n",
    "        a[j] = t\n",
    "\n",
    "    ############################################\n",
    "    # generate shuffled number between 0 to n\n",
    "    # n-1 not encluded\n",
    "    #########################################   \n",
    "    def generate_suffled_number_between_1_to_n(self, n:int)->'List of integer':\n",
    "        a = []\n",
    "        for i in range(n):\n",
    "            a.append(i)\n",
    "\n",
    "        for i in range(n):\n",
    "            j = self.generate_a_random_number(0,n-1);\n",
    "            k = self.generate_a_random_number(0,n-1);\n",
    "            self.swap(a,j,k)\n",
    "        return a\n",
    "\n",
    "    ############################################\n",
    "    # generate n numbers in ascending order from 0 to n-1\n",
    "    #########################################\n",
    "    def generate_n_numbers_in_ascending_order(self, n:int)->'List of integer':\n",
    "        a = []\n",
    "        for i in range(n):\n",
    "            a.append(i)\n",
    "        return a\n",
    "\n",
    "    ############################################\n",
    "    # generate n numbers in descending order from n-1 to 0\n",
    "    #########################################\n",
    "    def generate_n_numbers_in_desscending_order(self, n:int)->'List of integer':\n",
    "        a = []\n",
    "        for i in range(n-1,-1,-1):\n",
    "            a.append(i)\n",
    "        return a\n",
    "\n",
    "    ############################################\n",
    "    # generate n same k number\n",
    "    #########################################\n",
    "    def generate_n_same_k_number(self, n:int,k:'int')->'List of integer':\n",
    "        a = []\n",
    "        for i in range(n):\n",
    "            a.append(k)\n",
    "        return a\n",
    "  \n",
    "    ############################################\n",
    "    # print_index(10)\n",
    "    #    0   1   2   3   4   5   6   7   8   9\n",
    "    #########################################\n",
    "    def print_index(self, n:int):\n",
    "        for i in range(n):\n",
    "            print(\"{:4d}\".format(i),end=\"\")\n",
    "        print()\n",
    "\n",
    "    ############################################\n",
    "    # a = [7,8,9, 23, 100]\n",
    "    # print_list(a)\n",
    "    # 7   8   9  23 100\n",
    "    #########################################\n",
    "    def print_list(self, a:'list'):\n",
    "        for i in range(len(a)):\n",
    "            print(\"{:4d}\".format(a[i]),end=\"\")\n",
    "        print()   \n",
    "\n",
    "    ############################################\n",
    "    # a = [7,8,9, 1, 100]\n",
    "    # crash\n",
    "    #########################################\n",
    "    def assert_ascending_range(self, a:'list',start:int, includingend:int):\n",
    "        t = a[start]\n",
    "        for i in range(start+1,includingend):\n",
    "            if (a[i] < t):\n",
    "                assert(False)\n",
    "            t = a[i]\n",
    "\n",
    "    ############################################\n",
    "    # a = [7,8,9, 1, 100]\n",
    "    # crash\n",
    "    #########################################\n",
    "    def assert_ascending(self, a:'list'):\n",
    "        if (len(a)):\n",
    "            self.assert_ascending_range(a,0,len(a)) \n",
    "\n",
    "    ############################################\n",
    "    # log to the next possible integer\n",
    "    #########################################\n",
    "    def log_upper_bound(self, n:'int', b:'int')->'int':\n",
    "        f = math.log(n,b)\n",
    "        c = math.ceil(f)\n",
    "        return c \n",
    "\n",
    "    ############################################\n",
    "    # log to the smallest possible integer\n",
    "    #########################################\n",
    "    def log_lower_bound(self, n:'int', b:'int')->'int':\n",
    "        f = math.log(n,b)\n",
    "        c = math.floor(f)\n",
    "        return c   \n",
    "\n",
    "    ############################################\n",
    "    # sqrt to the next possible integer\n",
    "    #########################################\n",
    "    def sqrt_upper_bound(self, n:'int')->'int':\n",
    "        f = math.sqrt(n)\n",
    "        c = math.ceil(f)\n",
    "        return c    "
   ]
  },
  {
   "cell_type": "markdown",
   "metadata": {
    "collapsed": false
   },
   "source": [
    "# Hash test class\n",
    "# NOTHING CAN BE CHANGED BELOW"
   ]
  },
  {
   "cell_type": "code",
   "execution_count": 6,
   "metadata": {
    "collapsed": false
   },
   "outputs": [],
   "source": [
    "############################################################\n",
    "# HashTest.py \n",
    "# Test Bench for Hash\n",
    "# Author: Jagadeesh Vasudevamurthy\n",
    "# Copyright: Jagadeesh Vasudevamurthy 2021\n",
    "###########################################################\n",
    "\n",
    "############################################################\n",
    "#  NOTHING CAN BE CHANGED IN THIS FILE\n",
    "########################################################### \n",
    "\n",
    "############################################################\n",
    "#  All imports here\n",
    "###########################################################\n",
    "import sys # For getting Python Version\n",
    "#from Util import *\n",
    "#from Hash import *\n",
    "\n",
    "############################################################\n",
    "#  class  Hash test\n",
    "###########################################################    \n",
    "class HashTest():\n",
    "    def __init__(self):\n",
    "        self._u = Util()\n",
    "        self._test_int_hash()\n",
    "              \n",
    "    def _test1(self,N,B,S,E):\n",
    "        print(\"------------------  TESTING add to hash \")\n",
    "        print(\"------------------  Adding\",N,\"Random numbers between\", S, \"To\", E,\" Bucket size\",B,\"---------\")\n",
    "        print(\"Perfect hash should have exactly\", N//B, \"elements in each bucket\")\n",
    "        d ={} \n",
    "        h = Hash(B)\n",
    "        for i in range(N):\n",
    "            v= self._u.generate_a_random_number(S,E)\n",
    "            ## Note v can have duplicate\n",
    "            #If hash has to be like dict, we need to modify slist node with {key,val,next}\n",
    "            # Python dict. key is i(unique) and value is v\n",
    "            d[i] = v #insert in dict\n",
    "            h.insert(v) #insert in hash\n",
    "        assert(len(h) == N)\n",
    "        assert(len(h) == len(d))\n",
    "        [min,max] = h.statistics()\n",
    "        print(\"MIN= \",min)\n",
    "        print(\"MAX= \",max)\n",
    "        print(\"Perfect hash should have exactly\", len(h)//B, \"elements\")\n",
    "        \n",
    "        print(\"------------------  Testing find --------------\")\n",
    "        for key,value in d.items():\n",
    "            v = h.find(value)\n",
    "            assert(v)\n",
    "        print(\"------------------  Testing delete --------------\")\n",
    "        for key,value in d.items():\n",
    "            v = h.delete(value)\n",
    "            \n",
    "\n",
    "    def _test_int_hash(self): \n",
    "        N = 1000\n",
    "        B = N\n",
    "        S = 0\n",
    "        E = 1000\n",
    "        self._test1(N,B,S,E)\n",
    "\n",
    "        N = 100000\n",
    "        B = N\n",
    "        S = 111111111\n",
    "        E = 999999999\n",
    "        self._test1(N,B,S,E)\n",
    "\n",
    "        N = 500000\n",
    "        B = N\n",
    "        S = 111111111\n",
    "        E = 999999999\n",
    "        self._test1(N,B,S,E)\n",
    "\n",
    "        N = 5000000\n",
    "        B = N\n",
    "        S = 111111111\n",
    "        E = 999999999\n",
    "        self._test1(N,B,S,E)\n",
    "\n",
    "\n",
    "############################################################\n",
    "# MAIN\n",
    "###########################################################    \n",
    "def main():\n",
    "    print(\"Basic Hash test starts\")\n",
    "    print(sys.version)\n",
    "    t = HashTest()\n",
    "    print(\"Basic Hash test Passed. \")\n"
   ]
  },
  {
   "cell_type": "markdown",
   "metadata": {
    "collapsed": false
   },
   "source": [
    "# main"
   ]
  },
  {
   "cell_type": "code",
   "execution_count": 7,
   "metadata": {
    "collapsed": false
   },
   "outputs": [
    {
     "name": "stdout",
     "output_type": "stream",
     "text": [
      "Basic Hash test starts\n",
      "3.8.10 (default, Mar 15 2022, 12:22:08) \n",
      "[GCC 9.4.0]\n",
      "------------------  TESTING add to hash \n",
      "------------------  Adding 1000 Random numbers between 0 To 1000  Bucket size 1000 ---------\n",
      "Perfect hash should have exactly 1 elements in each bucket\n",
      "MIN=  1\n",
      "MAX=  10\n",
      "Perfect hash should have exactly 1 elements\n",
      "------------------  Testing find --------------\n",
      "------------------  Testing delete --------------\n",
      "------------------  TESTING add to hash \n",
      "------------------  Adding 100000 Random numbers between 111111111 To 999999999  Bucket size 100000 ---------\n",
      "Perfect hash should have exactly 1 elements in each bucket\n"
     ]
    },
    {
     "name": "stdout",
     "output_type": "stream",
     "text": [
      "MIN=  1\n",
      "MAX=  7\n",
      "Perfect hash should have exactly 1 elements\n",
      "------------------  Testing find --------------\n"
     ]
    },
    {
     "name": "stdout",
     "output_type": "stream",
     "text": [
      "------------------  Testing delete --------------\n"
     ]
    },
    {
     "name": "stdout",
     "output_type": "stream",
     "text": [
      "------------------  TESTING add to hash \n",
      "------------------  Adding 500000 Random numbers between 111111111 To 999999999  Bucket size 500000 ---------\n",
      "Perfect hash should have exactly 1 elements in each bucket\n"
     ]
    },
    {
     "name": "stdout",
     "output_type": "stream",
     "text": [
      "MIN=  1\n",
      "MAX=  9\n"
     ]
    },
    {
     "name": "stdout",
     "output_type": "stream",
     "text": [
      "Perfect hash should have exactly 1 elements\n",
      "------------------  Testing find --------------\n"
     ]
    },
    {
     "name": "stdout",
     "output_type": "stream",
     "text": [
      "------------------  Testing delete --------------\n"
     ]
    },
    {
     "name": "stdout",
     "output_type": "stream",
     "text": [
      "------------------  TESTING add to hash \n",
      "------------------  Adding 5000000 Random numbers between 111111111 To 999999999  Bucket size 5000000 ---------\n",
      "Perfect hash should have exactly 1 elements in each bucket\n"
     ]
    }
   ],
   "source": [
    "main()"
   ]
  },
  {
   "cell_type": "code",
   "execution_count": null,
   "metadata": {
    "collapsed": false
   },
   "outputs": [],
   "source": []
  }
 ],
 "metadata": {
  "kernelspec": {
   "display_name": "Python 3 (system-wide)",
   "language": "python",
   "metadata": {
    "cocalc": {
     "description": "Python 3 programming language",
     "priority": 100,
     "url": "https://www.python.org/"
    }
   },
   "name": "python3",
   "resource_dir": "/ext/jupyter/kernels/python3"
  },
  "language_info": {
   "codemirror_mode": {
    "name": "ipython",
    "version": 3
   },
   "file_extension": ".py",
   "mimetype": "text/x-python",
   "name": "python",
   "nbconvert_exporter": "python",
   "pygments_lexer": "ipython3",
   "version": "3.8.10"
  }
 },
 "nbformat": 4,
 "nbformat_minor": 4
}
